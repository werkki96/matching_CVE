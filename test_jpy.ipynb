{
 "cells": [
  {
   "metadata": {
    "ExecuteTime": {
     "end_time": "2024-05-22T11:01:03.058886Z",
     "start_time": "2024-05-22T11:00:57.398747Z"
    }
   },
   "cell_type": "code",
   "source": [
    "import pandas as pd\n",
    "from sklearn.metrics.pairwise import cosine_similarity\n",
    "from transformers import BertTokenizer, BertModel\n",
    "import torch\n",
    "import nltk\n",
    "from nltk.corpus import stopwords\n",
    "# Naive Bayes 모델\n",
    "from sklearn.feature_extraction.text import TfidfVectorizer\n",
    "from sklearn.naive_bayes import MultinomialNB\n",
    "\n",
    "# NLTK 불용어 다운로드 및 로드\n",
    "nltk.download('stopwords')\n",
    "stop_words = set(stopwords.words('english'))\n",
    "\n",
    "#gpu 메모리 초기화\n",
    "def clear_memory():\n",
    "    torch.cuda.empty_cache()\n",
    "    torch.cuda.ipc_collect()"
   ],
   "id": "63e21384bfb64844",
   "outputs": [
    {
     "name": "stderr",
     "output_type": "stream",
     "text": [
      "[nltk_data] Downloading package stopwords to\n",
      "[nltk_data]     C:\\Users\\user\\AppData\\Roaming\\nltk_data...\n",
      "[nltk_data]   Package stopwords is already up-to-date!\n"
     ]
    }
   ],
   "execution_count": 1
  },
  {
   "metadata": {
    "ExecuteTime": {
     "end_time": "2024-05-22T11:01:05.185262Z",
     "start_time": "2024-05-22T11:01:03.059885Z"
    }
   },
   "cell_type": "code",
   "source": [
    "device = torch.device('cuda' if torch.cuda.is_available() else 'cpu')\n",
    "\n",
    "# 데이터 로드\n",
    "try:\n",
    "    cve_data = pd.read_csv('allitems_cleaned.csv', encoding='utf-8', low_memory=False)\n",
    "    attack_data = pd.read_csv('enterprise-attack-v15.1.csv', encoding='utf-8')\n",
    "    d3fend_data = pd.read_csv('d3fend.csv', encoding='utf-8')\n",
    "except UnicodeDecodeError:\n",
    "    cve_data = pd.read_csv('allitems_cleaned.csv', encoding='ISO-8859-1', low_memory=False)\n",
    "    attack_data = pd.read_csv('enterprise-attack-v15.1.csv', encoding='ISO-8859-1')\n",
    "    d3fend_data = pd.read_csv('d3fend.csv', encoding='ISO-8859-1')\n",
    "    "
   ],
   "id": "cde21f868299a900",
   "outputs": [],
   "execution_count": 2
  },
  {
   "metadata": {
    "ExecuteTime": {
     "end_time": "2024-05-22T11:01:16.063250Z",
     "start_time": "2024-05-22T11:01:16.050127Z"
    }
   },
   "cell_type": "code",
   "source": [
    "\n",
    "# 텍스트 임베딩 함수\n",
    "def embed_text(texts, tokenizer, model, device, max_length=512, padding=True, truncation=True):\n",
    "    all_embeddings = []\n",
    "    for text in texts:\n",
    "        inputs = tokenizer(text, return_tensors='pt', truncation=truncation, padding=padding, max_length=max_length).to(device)\n",
    "        with torch.no_grad():\n",
    "            outputs = model(**inputs)\n",
    "        embeddings = outputs.last_hidden_state.mean(dim=1).cpu().numpy()\n",
    "        all_embeddings.append(embeddings[0])\n",
    "    return all_embeddings\n",
    "\n",
    "# 배치 임베딩 함수\n",
    "def embed_batch(texts, tokenizer, model, device, batch_size=16):\n",
    "    all_embeddings = []\n",
    "    for i in range(0, len(texts), batch_size):\n",
    "        batch_texts = texts[i:i + batch_size]\n",
    "        inputs = tokenizer(batch_texts, return_tensors='pt', truncation=True, padding=True, max_length=512).to(device)\n",
    "        with torch.no_grad():\n",
    "            outputs = model(**inputs)\n",
    "        embeddings = outputs.last_hidden_state.mean(dim=1).cpu().numpy()\n",
    "        all_embeddings.extend(embeddings)\n",
    "    return all_embeddings\n"
   ],
   "id": "5f908d53a381ec38",
   "outputs": [],
   "execution_count": 3
  },
  {
   "metadata": {
    "ExecuteTime": {
     "end_time": "2024-05-21T08:44:06.076156Z",
     "start_time": "2024-05-21T08:38:17.867341Z"
    }
   },
   "cell_type": "code",
   "source": [
    "# BERT 모델과 토크나이저 로드\n",
    "tokenizer = BertTokenizer.from_pretrained('bert-base-uncased')\n",
    "model = BertModel.from_pretrained('bert-base-uncased').to(device)\n",
    "\n",
    "cve_data['Description'] = cve_data['Description'].astype(str).fillna('')\n",
    "\n",
    "# CVE 설명 임베딩\n",
    "cve_data['embedding'] = embed_batch(cve_data['Description'].tolist(), tokenizer, model, device)\n"
   ],
   "id": "3c10ea9803799b22",
   "outputs": [],
   "execution_count": 26
  },
  {
   "metadata": {},
   "cell_type": "code",
   "source": "cve_data.tail()\n",
   "id": "9053096ee9361f63",
   "outputs": [],
   "execution_count": null
  },
  {
   "metadata": {},
   "cell_type": "markdown",
   "source": "아래 사용 안함. 사용하는곳부터 다시 체크",
   "id": "c088b591e8b440f6"
  },
  {
   "metadata": {},
   "cell_type": "code",
   "outputs": [],
   "execution_count": 27,
   "source": [
    "# ATT&CK 기술 설명 임베딩\n",
    "attack_data['description'] = attack_data['description'].astype(str).fillna('')\n",
    "attack_data['bert_embedding'] = embed_batch(attack_data['description'].tolist(), tokenizer, model, device)\n",
    "\n",
    "# D3FEND 기술 설명 임베딩\n",
    "d3fend_data['Definition'] = d3fend_data['Definition'].astype(str).fillna('')\n",
    "d3fend_data['bert_embedding'] = embed_batch(d3fend_data['Definition'].tolist(), tokenizer, model, device)"
   ],
   "id": "3899f9a9cca98a53"
  },
  {
   "metadata": {
    "ExecuteTime": {
     "end_time": "2024-05-21T08:52:48.514667Z",
     "start_time": "2024-05-21T08:44:09.888090Z"
    }
   },
   "cell_type": "code",
   "source": [
    "#유사도 계산 및 매칭 함수\n",
    "def find_best_match(cve_emb, tech_data, embedding_column):\n",
    "    similarities = cosine_similarity([cve_emb], tech_data[embedding_column].tolist())\n",
    "    best_match_idx = similarities.argmax()\n",
    "    return tech_data.iloc[best_match_idx]\n",
    "\n",
    "# CVE 데이터를 ATT&CK 및 D3FEND와 매칭\n",
    "cve_data['bert_attack_match'] = [find_best_match(emb, attack_data, 'bert_embedding')['ID'] for emb in cve_data['embedding']]\n",
    "cve_data['bert_d3fend_match'] = [find_best_match(emb, d3fend_data, 'bert_embedding')['ID'] for emb in cve_data['embedding']]\n",
    "\n",
    "#bert 끝\n",
    "clear_memory()\n"
   ],
   "id": "13d18929f5414549",
   "outputs": [],
   "execution_count": 28
  },
  {
   "metadata": {},
   "cell_type": "code",
   "source": [
    "\n",
    "\n",
    "# Naive Bayes 모델\n",
    "\n",
    "# TF-IDF 벡터화 및 Naive Bayes 모델 학습\n",
    "tfidf = TfidfVectorizer(stop_words='english')\n",
    "\n",
    "# 모든 데이터셋을 변환할 때 동일한 TF-IDF 벡터화기를 사용\n",
    "combined_descriptions = pd.concat([attack_data['description'], d3fend_data['Definition'], cve_data['Description']])\n",
    "tfidf.fit(combined_descriptions)\n",
    "\n",
    "# ATT&CK 기술 설명 벡터화 및 모델 학습\n",
    "attack_tfidf = tfidf.transform(attack_data['description'])\n",
    "nb_attack_model = MultinomialNB().fit(attack_tfidf, attack_data['ID'])\n",
    "\n",
    "# D3FEND 기술 설명 벡터화 및 모델 학습\n",
    "d3fend_tfidf = tfidf.transform(d3fend_data['Definition'])\n",
    "nb_d3fend_model = MultinomialNB().fit(d3fend_tfidf, d3fend_data['ID'])\n",
    "\n",
    "# CVE 설명 벡터화\n",
    "cve_tfidf = tfidf.transform(cve_data['Description']) \n",
    "\n",
    "# CVE 데이터를 ATT&CK 및 D3FEND와 매칭\n",
    "cve_data['nb_attack_match'] = nb_attack_model.predict(cve_tfidf)\n",
    "cve_data['nb_d3fend_match'] = nb_d3fend_model.predict(cve_tfidf)\n",
    "\n",
    "#나이브 베이즈 끝\n",
    "clear_memory()\n"
   ],
   "id": "c639b0cd3a9264d8",
   "outputs": [],
   "execution_count": null
  },
  {
   "metadata": {},
   "cell_type": "code",
   "outputs": [],
   "execution_count": 30,
   "source": [
    "\n",
    "secbert_tokenizer = BertTokenizer.from_pretrained('SecBERT-main')\n",
    "secbert_model = BertModel.from_pretrained('SecBERT-main').to(device)\n",
    "\n",
    "# CVE 설명 임베딩\n",
    "cve_data['secbert_embedding'] = embed_batch(cve_data['Description'].tolist(), secbert_tokenizer, secbert_model, device)\n",
    "\n",
    "# ATT&CK 기술 설명 임베딩\n",
    "attack_data['secbert_embedding'] = embed_batch(attack_data['description'].tolist(), secbert_tokenizer, secbert_model, device)\n",
    "\n",
    "# D3FEND 기술 설명 임베딩\n",
    "d3fend_data['secbert_embedding'] = embed_batch(d3fend_data['Definition'].tolist(), secbert_tokenizer, secbert_model, device)\n",
    "\n",
    "# CVE 데이터를 ATT&CK 및 D3FEND와 매칭\n",
    "cve_data['secbert_attack_match'] = [find_best_match(emb, attack_data, 'secbert_embedding')['ID'] for emb in cve_data['secbert_embedding']]\n",
    "cve_data['secbert_d3fend_match'] = [find_best_match(emb, d3fend_data, 'secbert_embedding')['ID'] for emb in cve_data['secbert_embedding']]\n",
    "\n",
    "#secBert 끝\n",
    "clear_memory()"
   ],
   "id": "9ac892a4fc6dd4d5"
  },
  {
   "metadata": {},
   "cell_type": "code",
   "source": "cve_data.tail()",
   "id": "cd6c5497b13e4f36",
   "outputs": [],
   "execution_count": null
  },
  {
   "metadata": {
    "ExecuteTime": {
     "end_time": "2024-05-20T06:52:02.150796Z",
     "start_time": "2024-05-20T06:52:00.359091Z"
    }
   },
   "cell_type": "code",
   "source": [
    "cve_data.drop(columns='embedding', inplace=True)\n",
    "cve_data.drop(columns='secbert_embedding', inplace=True)\n",
    "cve_data.to_csv('cve_with_matches__.csv', index=False)\n"
   ],
   "id": "77d15d1968147998",
   "outputs": [],
   "execution_count": 13
  },
  {
   "metadata": {},
   "cell_type": "code",
   "source": "cve_data.tail()",
   "id": "cbbd28049816776c",
   "outputs": [],
   "execution_count": null
  },
  {
   "metadata": {
    "ExecuteTime": {
     "end_time": "2024-05-21T09:05:11.619990Z",
     "start_time": "2024-05-21T09:05:11.606045Z"
    }
   },
   "cell_type": "code",
   "source": [
    "#매칭 근거 확인\n",
    "def find_key_tokens(cve_text, tech_text, tokenizer, model, device):\n",
    "    cve_embeds, cve_inputs = embed_text(cve_text, tokenizer, model, device)\n",
    "    tech_embeds, tech_inputs = embed_text(tech_text, tokenizer, model, device)\n",
    "\n",
    "    cve_tokens = tokenizer.convert_ids_to_tokens(cve_inputs['input_ids'][0])\n",
    "    tech_tokens = tokenizer.convert_ids_to_tokens(tech_inputs['input_ids'][0])\n",
    "\n",
    "    cve_embeds = cve_embeds.squeeze(0)  # Remove batch dimension\n",
    "    tech_embeds = tech_embeds.squeeze(0)  # Remove batch dimension\n",
    "\n",
    "    similarities = cosine_similarity(cve_embeds.cpu().numpy(), tech_embeds.cpu().numpy())\n",
    "\n",
    "    cve_key_tokens = []\n",
    "    tech_key_tokens = []\n",
    "\n",
    "    for i in range(len(similarities)):\n",
    "        cve_token = cve_tokens[i]\n",
    "        tech_token = tech_tokens[similarities[i].argmax()]\n",
    "        cve_key_tokens.append((cve_token, similarities[i].max()))\n",
    "        tech_key_tokens.append((tech_token, similarities[i].max()))\n",
    "\n",
    "    return cve_key_tokens, tech_key_tokens"
   ],
   "id": "1671d7da33c0cd97",
   "outputs": [],
   "execution_count": 31
  },
  {
   "metadata": {},
   "cell_type": "markdown",
   "source": "다음부터 다시 시작",
   "id": "2426adef1a7e5cf0"
  },
  {
   "metadata": {
    "ExecuteTime": {
     "end_time": "2024-05-22T11:01:24.029397Z",
     "start_time": "2024-05-22T11:01:22.886628Z"
    }
   },
   "cell_type": "code",
   "source": [
    "# 데이터 전처리: 모든 설명을 문자열로 변환하고, NaN 값을 빈 문자열로 대체\n",
    "cve_data['Description'] = cve_data['Description'].astype(str).fillna('')\n",
    "attack_data['description'] = attack_data['description'].astype(str).fillna('')\n",
    "d3fend_data['Definition'] = d3fend_data['Definition'].astype(str).fillna('')\n",
    "\n",
    "# BERT 모델과 토크나이저 로드\n",
    "bert_tokenizer = BertTokenizer.from_pretrained('bert-base-uncased')\n",
    "bert_model = BertModel.from_pretrained('bert-base-uncased').to(device)\n",
    "\n",
    "# secBERT 모델과 토크나이저 로드\n",
    "secbert_tokenizer = BertTokenizer.from_pretrained('SecBERT-main')\n",
    "secbert_model = BertModel.from_pretrained('SecBERT-main').to(device)"
   ],
   "id": "e4ab985057a3766",
   "outputs": [
    {
     "name": "stderr",
     "output_type": "stream",
     "text": [
      "C:\\Users\\user\\OneDrive - Sejong University\\matching_cve\\lib\\site-packages\\huggingface_hub\\file_download.py:1132: FutureWarning: `resume_download` is deprecated and will be removed in version 1.0.0. Downloads always resume when possible. If you want to force a new download, use `force_download=True`.\n",
      "  warnings.warn(\n"
     ]
    }
   ],
   "execution_count": 4
  },
  {
   "metadata": {
    "ExecuteTime": {
     "end_time": "2024-05-22T11:01:26.813003Z",
     "start_time": "2024-05-22T11:01:26.806002Z"
    }
   },
   "cell_type": "code",
   "source": [
    "#clear_memory()\n",
    "\n",
    "# 주요 단어 찾기 함수 (불용어 제거 포함)\n",
    "def find_key_tokens(cve_text, tech_text, tokenizer, model, device, max_length=512, padding=True, truncation=True):\n",
    "    cve_embeds = embed_text([cve_text], tokenizer, model, device, max_length, padding, truncation)\n",
    "    tech_embeds = embed_text([tech_text], tokenizer, model, device, max_length, padding, truncation)\n",
    "\n",
    "    cve_inputs = tokenizer(cve_text, return_tensors='pt', truncation=truncation, padding=padding, max_length=max_length)\n",
    "    tech_inputs = tokenizer(tech_text, return_tensors='pt', truncation=truncation, padding=padding, max_length=max_length)\n",
    "\n",
    "    cve_tokens = tokenizer.convert_ids_to_tokens(cve_inputs['input_ids'][0])\n",
    "    tech_tokens = tokenizer.convert_ids_to_tokens(tech_inputs['input_ids'][0])\n",
    "\n",
    "    cve_embeds = torch.tensor(cve_embeds).squeeze(0)  # Remove batch dimension\n",
    "    tech_embeds = torch.tensor(tech_embeds).squeeze(0)  # Remove batch dimension\n",
    "\n",
    "    cve_embeds = cve_embeds.reshape(1, -1)  # Convert to 2D array\n",
    "    tech_embeds = tech_embeds.reshape(1, -1)  # Convert to 2D array\n",
    "\n",
    "    similarities = cosine_similarity(cve_embeds, tech_embeds)\n",
    "\n",
    "    cve_key_tokens = []\n",
    "    tech_key_tokens = []\n",
    "\n",
    "    for i in range(len(similarities)):\n",
    "        cve_token = cve_tokens[i]\n",
    "        tech_token = tech_tokens[similarities[i].argmax()]\n",
    "        if cve_token not in stop_words and tech_token not in stop_words and cve_token != '[CLS]' and cve_token != '[SEP]' and tech_token != '[CLS]' and tech_token != '[SEP]':\n",
    "            cve_key_tokens.append((cve_token, similarities[i].max()))\n",
    "            tech_key_tokens.append((tech_token, similarities[i].max()))\n",
    "\n",
    "    return cve_key_tokens, tech_key_tokens"
   ],
   "id": "cc82cb9d1a4be607",
   "outputs": [],
   "execution_count": 5
  },
  {
   "metadata": {
    "ExecuteTime": {
     "end_time": "2024-05-22T11:01:27.540261Z",
     "start_time": "2024-05-22T11:01:27.531258Z"
    }
   },
   "cell_type": "code",
   "source": [
    "# Naive Bayes 주요 단어 찾기 함수\n",
    "def find_key_tokens_nb(cve_text, tech_text, tfidf):\n",
    "    cve_tfidf = tfidf.transform([cve_text])\n",
    "    tech_tfidf = tfidf.transform([tech_text])\n",
    "\n",
    "    cve_tokens = tfidf.get_feature_names_out()\n",
    "    tech_tokens = tfidf.get_feature_names_out()\n",
    "\n",
    "    cve_key_tokens = []\n",
    "    tech_key_tokens = []\n",
    "\n",
    "    cve_array = cve_tfidf.toarray().flatten()\n",
    "    tech_array = tech_tfidf.toarray().flatten()\n",
    "\n",
    "\n",
    "    for i in range(len(cve_array)):\n",
    "        if cve_array[i] > 0 and cve_tokens[i] not in stop_words and tech_tokens[tech_array.argmax()] not in stop_words:\n",
    "            cve_token = cve_tokens[i]\n",
    "            tech_token = tech_tokens[tech_array.argmax()]\n",
    "            cve_key_tokens.append((cve_token, cve_array[i]))\n",
    "            tech_key_tokens.append((tech_token, tech_array[tech_array.argmax()]))\n",
    "\n",
    "    return cve_key_tokens, tech_key_tokens\n"
   ],
   "id": "d478910de56d20b5",
   "outputs": [],
   "execution_count": 6
  },
  {
   "metadata": {
    "ExecuteTime": {
     "end_time": "2024-05-22T11:01:41.534067Z",
     "start_time": "2024-05-22T11:01:29.945126Z"
    }
   },
   "cell_type": "code",
   "source": [
    "# 모든 텍스트 데이터를 합침\n",
    "all_descriptions = pd.concat([cve_data['Description'], attack_data['description'], d3fend_data['Definition']])\n",
    "\n",
    "# Naive Bayes 모델\n",
    "tfidf = TfidfVectorizer(stop_words='english')\n",
    "\n",
    "# 모든 텍스트 데이터를 사용하여 TF-IDF 학습\n",
    "tfidf.fit(all_descriptions)\n",
    "\n",
    "# ATT&CK 및 D3FEND 기술 설명 벡터화 및 모델 학습\n",
    "attack_tfidf = tfidf.transform(attack_data['description'])\n",
    "d3fend_tfidf = tfidf.transform(d3fend_data['Definition'])\n",
    "\n",
    "nb_attack_model = MultinomialNB().fit(attack_tfidf, attack_data['ID'])\n",
    "nb_d3fend_model = MultinomialNB().fit(d3fend_tfidf, d3fend_data['ID'])\n",
    "\n",
    "# CVE 설명 벡터화\n",
    "cve_tfidf = tfidf.transform(cve_data['Description'])\n",
    "\n",
    "# Naive Bayes 매칭 수행\n",
    "cve_data['nb_attack_match'] = nb_attack_model.predict(cve_tfidf)\n",
    "cve_data['nb_d3fend_match'] = nb_d3fend_model.predict(cve_tfidf)"
   ],
   "id": "b49395e81272ce89",
   "outputs": [],
   "execution_count": 7
  },
  {
   "metadata": {
    "jupyter": {
     "is_executing": true
    }
   },
   "cell_type": "code",
   "source": "cve_data.tail()",
   "id": "990b3866f83fe0e3",
   "outputs": [],
   "execution_count": null
  },
  {
   "metadata": {
    "ExecuteTime": {
     "end_time": "2024-05-22T11:40:44.063560Z",
     "start_time": "2024-05-22T11:06:01.023780Z"
    }
   },
   "cell_type": "code",
   "source": [
    "# 유사도 계산 및 매칭 함수 (유사도 점수 포함)\n",
    "def find_best_match_with_score(cve_emb, tech_data, embedding_column):\n",
    "    similarities = cosine_similarity([cve_emb], tech_data[embedding_column].tolist())\n",
    "    best_match_idx = similarities.argmax()\n",
    "    return tech_data.iloc[best_match_idx], similarities[0, best_match_idx]\n",
    "\n",
    "# CVE 설명 임베딩 (전체 데이터)\n",
    "cve_data['bert_embedding'] = embed_text(cve_data['Description'].tolist(), bert_tokenizer, bert_model, device)\n",
    "cve_data['secbert_embedding'] = embed_text(cve_data['Description'].tolist(), secbert_tokenizer, secbert_model, device)"
   ],
   "id": "43be0e75d6f50821",
   "outputs": [],
   "execution_count": 8
  },
  {
   "metadata": {
    "ExecuteTime": {
     "end_time": "2024-05-22T12:12:16.938501Z",
     "start_time": "2024-05-22T12:12:08.323099Z"
    }
   },
   "cell_type": "code",
   "source": [
    "\n",
    "# ATT&CK 및 D3FEND 기술 설명 임베딩\n",
    "attack_data['bert_embedding'] = embed_text(attack_data['description'].tolist(), bert_tokenizer, bert_model, device)\n",
    "d3fend_data['bert_embedding'] = embed_text(d3fend_data['Definition'].tolist(), bert_tokenizer, bert_model, device)\n",
    "attack_data['secbert_embedding'] = embed_text(attack_data['description'].tolist(), secbert_tokenizer, secbert_model, device)\n",
    "d3fend_data['secbert_embedding'] = embed_text(d3fend_data['Definition'].tolist(), secbert_tokenizer, secbert_model, device)\n"
   ],
   "id": "77f3a57ff2cd27f5",
   "outputs": [],
   "execution_count": 10
  },
  {
   "metadata": {
    "jupyter": {
     "is_executing": true
    },
    "ExecuteTime": {
     "start_time": "2024-05-23T03:21:54.019741Z"
    }
   },
   "cell_type": "code",
   "source": [
    "# 매칭 근거를 포함한 데이터프레임 생성\n",
    "matching_data = []\n",
    "\n",
    "for idx, row in cve_data.iterrows():\n",
    "    cve_text = row['Description']\n",
    "\n",
    "    # BERT 매칭\n",
    "    bert_attack_match, bert_attack_score = find_best_match_with_score(row['bert_embedding'], attack_data, 'bert_embedding')\n",
    "    bert_d3fend_match, bert_d3fend_score = find_best_match_with_score(row['bert_embedding'], d3fend_data, 'bert_embedding')\n",
    "    \n",
    "    attack_match_bert_text = attack_data[attack_data['ID'] == bert_attack_match['ID']].iloc[0]['description']\n",
    "    d3fend_match_bert_text = d3fend_data[d3fend_data['ID'] == bert_d3fend_match['ID']].iloc[0]['Definition']\n",
    "    \n",
    "    cve_key_tokens_bert, attack_key_tokens_bert = find_key_tokens(cve_text, attack_match_bert_text, bert_tokenizer, bert_model, device)\n",
    "    _, d3fend_key_tokens_bert = find_key_tokens(cve_text, d3fend_match_bert_text, bert_tokenizer, bert_model, device)\n",
    "\n",
    "    # secBERT 매칭\n",
    "    secbert_attack_match, secbert_attack_score = find_best_match_with_score(row['secbert_embedding'], attack_data, 'secbert_embedding')\n",
    "    secbert_d3fend_match, secbert_d3fend_score = find_best_match_with_score(row['secbert_embedding'], d3fend_data, 'secbert_embedding')\n",
    "\n",
    "    attack_match_secbert_text = attack_data[attack_data['ID'] == secbert_attack_match['ID']].iloc[0]['description']\n",
    "    d3fend_match_secbert_text = d3fend_data[d3fend_data['ID'] == secbert_d3fend_match['ID']].iloc[0]['Definition']\n",
    "\n",
    "    cve_key_tokens_secbert, attack_key_tokens_secbert = find_key_tokens(cve_text, attack_match_secbert_text, secbert_tokenizer, secbert_model, device)\n",
    "    _, d3fend_key_tokens_secbert = find_key_tokens(cve_text, d3fend_match_secbert_text, secbert_tokenizer, secbert_model, device)\n",
    "\n",
    "    # Naive Bayes 매칭\n",
    "    attack_match_nb = attack_data[attack_data['ID'] == row['nb_attack_match']].iloc[0]['description']\n",
    "    d3fend_match_nb = d3fend_data[d3fend_data['ID'] == row['nb_d3fend_match']].iloc[0]['Definition']\n",
    "\n",
    "    cve_key_tokens_nb, attack_key_tokens_nb = find_key_tokens_nb(cve_text, attack_match_nb, tfidf)\n",
    "    _, d3fend_key_tokens_nb = find_key_tokens_nb(cve_text, d3fend_match_nb, tfidf)\n",
    "\n",
    "\n",
    "    matching_data.append({\n",
    "        'cve_id': row['Name'],\n",
    "        'cve_description': cve_text,\n",
    "        'bert_attack_match': bert_attack_match['ID'],\n",
    "        'bert_d3fend_match': bert_d3fend_match['ID'],\n",
    "        'secbert_attack_match': secbert_attack_match['ID'],\n",
    "        'secbert_d3fend_match': secbert_d3fend_match['ID'],\n",
    "        'nb_attack_match': row['nb_attack_match'],\n",
    "        'nb_d3fend_match': row['nb_d3fend_match'],\n",
    "        'cve_key_tokens_bert': cve_key_tokens_bert,\n",
    "        'attack_key_tokens_bert': attack_key_tokens_bert,\n",
    "        'd3fend_key_tokens_bert': d3fend_key_tokens_bert,\n",
    "        'cve_key_tokens_secbert': cve_key_tokens_secbert,\n",
    "        'attack_key_tokens_secbert': attack_key_tokens_secbert,\n",
    "        'd3fend_key_tokens_secbert': d3fend_key_tokens_secbert,\n",
    "        'cve_key_tokens_nb': cve_key_tokens_nb,\n",
    "        'attack_key_tokens_nb': attack_key_tokens_nb,\n",
    "        'd3fend_key_tokens_nb': d3fend_key_tokens_nb\n",
    "    })\n",
    "\n"
   ],
   "id": "dba95e1130683d94",
   "outputs": [],
   "execution_count": null
  },
  {
   "metadata": {
    "ExecuteTime": {
     "end_time": "2024-05-23T03:20:57.512170Z",
     "start_time": "2024-05-23T03:20:57.496171Z"
    }
   },
   "cell_type": "code",
   "source": "matching_data",
   "id": "f90bd396602b7029",
   "outputs": [
    {
     "data": {
      "text/plain": [
       "[{'cve_id': 'CVE-2024-4337',\n",
       "  'cve_description': 'Adive Framework 2.0.8, does not sufficiently encode user-controlled inputs, resulting in a persistent Cross-Site Scripting (XSS) vulnerability via the /adive/admin/nav/add, in multiple parameters. This vulnerability allows an attacker to retrieve the session details of an authenticated user.',\n",
       "  'bert_attack_match': 'T1216',\n",
       "  'bert_d3fend_match': 'D3-CP',\n",
       "  'secbert_attack_match': 'T1204.001',\n",
       "  'secbert_d3fend_match': 'D3-NVA',\n",
       "  'nb_attack_match': 'T1563.002',\n",
       "  'nb_d3fend_match': 'D3-WSAA',\n",
       "  'cve_key_tokens_bert': [],\n",
       "  'attack_key_tokens_bert': [],\n",
       "  'd3fend_key_tokens_bert': [],\n",
       "  'cve_key_tokens_secbert': [],\n",
       "  'attack_key_tokens_secbert': [],\n",
       "  'd3fend_key_tokens_secbert': [],\n",
       "  'cve_key_tokens_nb': [('add', 0.1643408671295955),\n",
       "   ('adive', 0.6461478751506837),\n",
       "   ('admin', 0.12153632227517967),\n",
       "   ('allows', 0.05344485774671441),\n",
       "   ('attacker', 0.07992927057017242),\n",
       "   ('authenticated', 0.1032606916013725),\n",
       "   ('controlled', 0.1759050620122953),\n",
       "   ('cross', 0.08986982895862214),\n",
       "   ('details', 0.10368062059081552),\n",
       "   ('encode', 0.22908083471758328),\n",
       "   ('framework', 0.16716052577585835),\n",
       "   ('inputs', 0.20679563842061244),\n",
       "   ('multiple', 0.11114274641166334),\n",
       "   ('nav', 0.2761316766304964),\n",
       "   ('parameters', 0.1452903609891013),\n",
       "   ('persistent', 0.20032999902674475),\n",
       "   ('resulting', 0.14808654897031978),\n",
       "   ('retrieve', 0.19111383415521208),\n",
       "   ('scripting', 0.09432821718571802),\n",
       "   ('session', 0.14489537987422554),\n",
       "   ('site', 0.0871467055690589),\n",
       "   ('sufficiently', 0.20618399578417587),\n",
       "   ('user', 0.16642189454066347),\n",
       "   ('vulnerability', 0.10968280558768327),\n",
       "   ('xss', 0.09586033238931721)],\n",
       "  'attack_key_tokens_nb': [('session', 0.38600387777451756),\n",
       "   ('session', 0.38600387777451756),\n",
       "   ('session', 0.38600387777451756),\n",
       "   ('session', 0.38600387777451756),\n",
       "   ('session', 0.38600387777451756),\n",
       "   ('session', 0.38600387777451756),\n",
       "   ('session', 0.38600387777451756),\n",
       "   ('session', 0.38600387777451756),\n",
       "   ('session', 0.38600387777451756),\n",
       "   ('session', 0.38600387777451756),\n",
       "   ('session', 0.38600387777451756),\n",
       "   ('session', 0.38600387777451756),\n",
       "   ('session', 0.38600387777451756),\n",
       "   ('session', 0.38600387777451756),\n",
       "   ('session', 0.38600387777451756),\n",
       "   ('session', 0.38600387777451756),\n",
       "   ('session', 0.38600387777451756),\n",
       "   ('session', 0.38600387777451756),\n",
       "   ('session', 0.38600387777451756),\n",
       "   ('session', 0.38600387777451756),\n",
       "   ('session', 0.38600387777451756),\n",
       "   ('session', 0.38600387777451756),\n",
       "   ('session', 0.38600387777451756),\n",
       "   ('session', 0.38600387777451756),\n",
       "   ('session', 0.38600387777451756)],\n",
       "  'd3fend_key_tokens_nb': [('behavior', 0.5816547447459858),\n",
       "   ('behavior', 0.5816547447459858),\n",
       "   ('behavior', 0.5816547447459858),\n",
       "   ('behavior', 0.5816547447459858),\n",
       "   ('behavior', 0.5816547447459858),\n",
       "   ('behavior', 0.5816547447459858),\n",
       "   ('behavior', 0.5816547447459858),\n",
       "   ('behavior', 0.5816547447459858),\n",
       "   ('behavior', 0.5816547447459858),\n",
       "   ('behavior', 0.5816547447459858),\n",
       "   ('behavior', 0.5816547447459858),\n",
       "   ('behavior', 0.5816547447459858),\n",
       "   ('behavior', 0.5816547447459858),\n",
       "   ('behavior', 0.5816547447459858),\n",
       "   ('behavior', 0.5816547447459858),\n",
       "   ('behavior', 0.5816547447459858),\n",
       "   ('behavior', 0.5816547447459858),\n",
       "   ('behavior', 0.5816547447459858),\n",
       "   ('behavior', 0.5816547447459858),\n",
       "   ('behavior', 0.5816547447459858),\n",
       "   ('behavior', 0.5816547447459858),\n",
       "   ('behavior', 0.5816547447459858),\n",
       "   ('behavior', 0.5816547447459858),\n",
       "   ('behavior', 0.5816547447459858),\n",
       "   ('behavior', 0.5816547447459858)]}]"
      ]
     },
     "execution_count": 17,
     "metadata": {},
     "output_type": "execute_result"
    }
   ],
   "execution_count": 17
  },
  {
   "metadata": {
    "ExecuteTime": {
     "end_time": "2024-05-22T03:53:25.643846Z",
     "start_time": "2024-05-22T03:53:25.634846Z"
    }
   },
   "cell_type": "code",
   "source": [
    "import xml.etree.ElementTree as ET\n",
    "# XML 생성 함수\n",
    "def create_xml(data):\n",
    "    root = ET.Element(\"Root\")\n",
    "\n",
    "    for item in data:\n",
    "        cve_entry = ET.SubElement(root, \"CVE_Entry\")\n",
    "\n",
    "        for key, value in item.items():\n",
    "            if isinstance(value, list) and all(isinstance(i, tuple) for i in value):\n",
    "                tokens_element = ET.SubElement(cve_entry, key)\n",
    "                for token, score in value:\n",
    "                    token_element = ET.SubElement(tokens_element, \"Token\")\n",
    "                    token_element.set(\"score\", str(score))\n",
    "                    token_element.text = token\n",
    "            else:\n",
    "                element = ET.SubElement(cve_entry, key)\n",
    "                element.text = str(value)\n",
    "\n",
    "    tree = ET.ElementTree(root)\n",
    "    tree.write(\"output_after.xml\", encoding=\"utf-8\", xml_declaration=True)\n",
    "\n",
    "create_xml(matching_data)"
   ],
   "id": "39f494bda4ff6dca",
   "outputs": [],
   "execution_count": 42
  },
  {
   "metadata": {},
   "cell_type": "markdown",
   "source": [
    "---------------------------\n",
    "토큰화된 단어의 상관관계성 분석\n",
    "단어 토큰화된것 출력해보기\n",
    "---------------------------"
   ],
   "id": "2fb1eb4fddb1945c"
  },
  {
   "metadata": {},
   "cell_type": "markdown",
   "source": "",
   "id": "bbd7714ee676ad17"
  },
  {
   "metadata": {},
   "cell_type": "code",
   "outputs": [],
   "execution_count": null,
   "source": "",
   "id": "35906f37ab6df4ef"
  }
 ],
 "metadata": {
  "kernelspec": {
   "display_name": "Python (matching_cve)",
   "language": "python",
   "name": "matching_cve"
  },
  "language_info": {
   "codemirror_mode": {
    "name": "ipython",
    "version": 2
   },
   "file_extension": ".py",
   "mimetype": "text/x-python",
   "name": "python",
   "nbconvert_exporter": "python",
   "pygments_lexer": "ipython2",
   "version": "2.7.6"
  }
 },
 "nbformat": 4,
 "nbformat_minor": 5
}
